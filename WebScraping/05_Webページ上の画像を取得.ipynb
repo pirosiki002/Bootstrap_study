{
 "cells": [
  {
   "cell_type": "code",
   "execution_count": 5,
   "id": "d21e98df",
   "metadata": {},
   "outputs": [],
   "source": [
    "import requests\n",
    "from bs4 import BeautifulSoup"
   ]
  },
  {
   "cell_type": "code",
   "execution_count": 6,
   "id": "89113b1b",
   "metadata": {},
   "outputs": [],
   "source": [
    "url = 'https://scraping-for-beginner.herokuapp.com/image'\n",
    "res = requests.get(url)"
   ]
  },
  {
   "cell_type": "code",
   "execution_count": 7,
   "id": "ff3c7c97",
   "metadata": {},
   "outputs": [
    {
     "data": {
      "text/plain": [
       "<Response [200]>"
      ]
     },
     "execution_count": 7,
     "metadata": {},
     "output_type": "execute_result"
    }
   ],
   "source": [
    "res"
   ]
  },
  {
   "cell_type": "code",
   "execution_count": 8,
   "id": "a4bfd6ae",
   "metadata": {},
   "outputs": [
    {
     "data": {
      "text/plain": [
       "<!DOCTYPE html>\n",
       "\n",
       "<html dir=\"ltr\" lang=\"en\">\n",
       "<head>\n",
       "<meta charset=\"utf-8\"/>\n",
       "<title>Webスクレイピング入門者のためのサイト</title>\n",
       "<!-- Compiled and minified CSS -->\n",
       "<link href=\"https://cdnjs.cloudflare.com/ajax/libs/materialize/1.0.0-rc.2/css/materialize.min.css\" rel=\"stylesheet\"/>\n",
       "<link href=\"https://fonts.googleapis.com/icon?family=Material+Icons\" rel=\"stylesheet\"/> \b\n",
       "  <link href=\"static/assets/css/style.css\" rel=\"stylesheet\"/>\n",
       "<link href=\"static/assets/css/image.css\" rel=\"stylesheet\"/>\n",
       "</head>\n",
       "<body>\n",
       "<!-- Navbar -->\n",
       "<div class=\"navbar-fixed\">\n",
       "<!-- Dropdown Structure -->\n",
       "<nav class=\"\">\n",
       "<div class=\"nav-wrapper row\">\n",
       "<div class=\"col s5 l4 offset-s1 offset-l1\">\n",
       "<a class=\"brand-logo\" href=\"\b/\">Webスクレイピング入門</a>\n",
       "</div>\n",
       "<div class=\"col s5 l6\">\n",
       "<ul class=\"right hide-on-med-and-down\" id=\"nav-mobile\">\n",
       "<li><a class=\"\" href=\"\b/login_page\">ログイン</a></li>\n",
       "<li><a class=\"\" href=\"/ranking/\">ランキング</a></li>\n",
       "<li><a class=\"\" href=\"/image\">画像</a></li>\n",
       "<li><a class=\"\" href=\"/udemy\">Udemy</a></li>\n",
       "<li><a class=\"\" href=\"https://scraping-for-beginner.readthedocs.io/\" target=\"”_blank”\">サンプルコード</a></li>\n",
       "</ul>\n",
       "</div>\n",
       "</div>\n",
       "</nav>\n",
       "</div>\n",
       "<div class=\"section\"></div>\n",
       "<!-- Header -->\n",
       "<!-- <div class=\"header\">\n",
       "  <img src=\"/static/assets/img/camera_icon.png\" width=\"100px\">\n",
       "  <h4 class=\"grey-text text-darken-3\">写真一覧</h4>\n",
       "</div> -->\n",
       "<!-- Photo Grid -->\n",
       "<div class=\"container\">\n",
       "<div class=\"row card\">\n",
       "<div class=\"col s12 m6 l4\"><img class=\"materialbox responsive-img card\" src=\"/static/assets/img/img1.JPG\"/></div>\n",
       "<div class=\"col s12 m6 l4\"><img class=\"materialbox responsive-img card\" src=\"/static/assets/img/img2.JPG\"/></div>\n",
       "<div class=\"col s12 m6 l4\"><img class=\"materialbox responsive-img card\" src=\"/static/assets/img/img3.JPG\"/></div>\n",
       "<div class=\"col s12 m6 l4\"><img class=\"materialbox responsive-img card\" src=\"/static/assets/img/img4.JPG\"/></div>\n",
       "<div class=\"col s12 m6 l4\"><img class=\"materialbox responsive-img card\" src=\"/static/assets/img/img5.JPG\"/></div>\n",
       "<div class=\"col s12 m6 l4\"><img class=\"materialbox responsive-img card\" src=\"/static/assets/img/img6.JPG\"/></div>\n",
       "<div class=\"col s12 m6 l4\"><img class=\"materialbox responsive-img card\" src=\"/static/assets/img/img7.JPG\"/></div>\n",
       "<div class=\"col s12 m6 l4\"><img class=\"materialbox responsive-img card\" src=\"/static/assets/img/img8.JPG\"/></div>\n",
       "<div class=\"col s12 m6 l4\"><img class=\"materialbox responsive-img card\" src=\"/static/assets/img/img9.JPG\"/></div>\n",
       "<div class=\"col s12 m6 l4\"><img class=\"materialbox responsive-img card\" src=\"/static/assets/img/img10.JPG\"/></div>\n",
       "<div class=\"col s12 m6 l4\"><img class=\"materialbox responsive-img card\" src=\"/static/assets/img/img11.JPG\"/></div>\n",
       "<div class=\"col s12 m6 l4\"><img class=\"materialbox responsive-img card\" src=\"/static/assets/img/img12.JPG\"/></div>\n",
       "<div class=\"col s12 m6 l4\"><img class=\"materialbox responsive-img card\" src=\"/static/assets/img/img13.JPG\"/></div>\n",
       "<div class=\"col s12 m6 l4\"><img class=\"materialbox responsive-img card\" src=\"/static/assets/img/img14.JPG\"/></div>\n",
       "<div class=\"col s12 m6 l4\"><img class=\"materialbox responsive-img card\" src=\"/static/assets/img/img15.JPG\"/></div>\n",
       "<div class=\"col s12 m6 l4\"><img class=\"materialbox responsive-img card\" src=\"/static/assets/img/img16.JPG\"/></div>\n",
       "<div class=\"col s12 m6 l4\"><img class=\"materialbox responsive-img card\" src=\"/static/assets/img/img17.JPG\"/></div>\n",
       "<div class=\"col s12 m6 l4\"><img class=\"materialbox responsive-img card\" src=\"/static/assets/img/img18.JPG\"/></div>\n",
       "<div class=\"col s12 m6 l4\"><img class=\"materialbox responsive-img card\" src=\"/static/assets/img/img19.JPG\"/></div>\n",
       "<div class=\"col s12 m6 l4\"><img class=\"materialbox responsive-img card\" src=\"/static/assets/img/img20.JPG\"/></div>\n",
       "<div class=\"col s12 m6 l4\"><img class=\"materialbox responsive-img card\" src=\"/static/assets/img/img21.JPG\"/></div>\n",
       "<div class=\"col s12 m6 l4\"><img class=\"materialbox responsive-img card\" src=\"/static/assets/img/img22.JPG\"/></div>\n",
       "<div class=\"col s12 m6 l4\"><img class=\"materialbox responsive-img card\" src=\"/static/assets/img/img23.JPG\"/></div>\n",
       "<div class=\"col s12 m6 l4\"><img class=\"materialbox responsive-img card\" src=\"/static/assets/img/img24.JPG\"/></div>\n",
       "</div>\n",
       "</div>\n",
       "<div class=\"section\"></div>\n",
       "<div class=\"section\"></div>\n",
       "<!-- Compiled and minified JavaScript -->\n",
       "<script src=\"https://code.jquery.com/jquery-3.3.1.min.js\"></script>\n",
       "<script src=\"https://cdnjs.cloudflare.com/ajax/libs/materialize/1.0.0-rc.2/js/materialize.min.js\"></script>\n",
       "<script>\n",
       "  $(document).ready(function() {\n",
       "    $(\".dropdown-trigger\").dropdown();\n",
       "    $('.materialbox').materialbox();\n",
       "  });\n",
       "</script>\n",
       "</body>\n",
       "</html>"
      ]
     },
     "execution_count": 8,
     "metadata": {},
     "output_type": "execute_result"
    }
   ],
   "source": [
    "soup = BeautifulSoup(res.text, 'html.parser')\n",
    "soup"
   ]
  },
  {
   "cell_type": "code",
   "execution_count": 9,
   "id": "b41f0a44",
   "metadata": {},
   "outputs": [],
   "source": [
    "img_tag = soup.find('img')"
   ]
  },
  {
   "cell_type": "code",
   "execution_count": 10,
   "id": "71ea42dc",
   "metadata": {},
   "outputs": [
    {
     "data": {
      "text/plain": [
       "'/static/assets/img/img1.JPG'"
      ]
     },
     "execution_count": 10,
     "metadata": {},
     "output_type": "execute_result"
    }
   ],
   "source": [
    "img_tag['src']"
   ]
  },
  {
   "cell_type": "code",
   "execution_count": 11,
   "id": "4999a4ae",
   "metadata": {},
   "outputs": [],
   "source": [
    "root_url = 'https://scraping-for-beginner.herokuapp.com'\n",
    "img_url = root_url + img_tag['src']"
   ]
  },
  {
   "cell_type": "code",
   "execution_count": 16,
   "id": "05d6274b",
   "metadata": {},
   "outputs": [
    {
     "data": {
      "text/plain": [
       "'https://scraping-for-beginner.herokuapp.com/static/assets/img/img1.JPG'"
      ]
     },
     "execution_count": 16,
     "metadata": {},
     "output_type": "execute_result"
    }
   ],
   "source": [
    "img_url"
   ]
  },
  {
   "cell_type": "code",
   "execution_count": 23,
   "id": "0cf8a46c",
   "metadata": {},
   "outputs": [],
   "source": [
    "from PIL import Image"
   ]
  },
  {
   "cell_type": "code",
   "execution_count": 24,
   "id": "c19bae86",
   "metadata": {},
   "outputs": [],
   "source": [
    "import io"
   ]
  },
  {
   "cell_type": "code",
   "execution_count": 25,
   "id": "bbd0a3ab",
   "metadata": {},
   "outputs": [],
   "source": [
    "img = Image.open(io.BytesIO(requests.get(img_url).content))"
   ]
  },
  {
   "cell_type": "code",
   "execution_count": 27,
   "id": "49eb425d",
   "metadata": {},
   "outputs": [],
   "source": [
    "img.save('img/sample.jpg')"
   ]
  },
  {
   "cell_type": "code",
   "execution_count": 28,
   "id": "48bd5445",
   "metadata": {},
   "outputs": [],
   "source": [
    "soup = BeautifulSoup(res.text, 'html.parser')\n",
    "img_tag = soup.find('img')\n",
    "\n",
    "root_url = 'https://scraping-for-beginner.herokuapp.com'\n",
    "img_url = root_url + img_tag['src']\n",
    "\n",
    "img = Image.open(io.BytesIO(requests.get(img_url).content))\n",
    "img.save('img/sample.jpg')"
   ]
  },
  {
   "cell_type": "code",
   "execution_count": 32,
   "id": "c721f6df",
   "metadata": {},
   "outputs": [],
   "source": [
    "img_tags = soup.find_all('img')\n",
    "for i, img_tag in enumerate(img_tags):\n",
    "\n",
    "    root_url = 'https://scraping-for-beginner.herokuapp.com'\n",
    "    img_url = root_url + img_tag['src']\n",
    "\n",
    "    img = Image.open(io.BytesIO(requests.get(img_url).content))\n",
    "    img.save(f'img/{i}.jpg')"
   ]
  },
  {
   "cell_type": "code",
   "execution_count": null,
   "id": "f64e6170",
   "metadata": {},
   "outputs": [],
   "source": []
  }
 ],
 "metadata": {
  "kernelspec": {
   "display_name": "Python 3 (ipykernel)",
   "language": "python",
   "name": "python3"
  },
  "language_info": {
   "codemirror_mode": {
    "name": "ipython",
    "version": 3
   },
   "file_extension": ".py",
   "mimetype": "text/x-python",
   "name": "python",
   "nbconvert_exporter": "python",
   "pygments_lexer": "ipython3",
   "version": "3.9.7"
  }
 },
 "nbformat": 4,
 "nbformat_minor": 5
}
