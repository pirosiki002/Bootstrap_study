{
 "cells": [
  {
   "cell_type": "code",
   "execution_count": 1,
   "id": "ec8e341a",
   "metadata": {},
   "outputs": [],
   "source": [
    "import requests\n",
    "from bs4 import BeautifulSoup"
   ]
  },
  {
   "cell_type": "code",
   "execution_count": 2,
   "id": "7592f0df",
   "metadata": {},
   "outputs": [],
   "source": [
    "url = 'https://scraping-for-beginner.herokuapp.com/ranking/'\n",
    "res = requests.get(url)"
   ]
  },
  {
   "cell_type": "code",
   "execution_count": 3,
   "id": "828f55e2",
   "metadata": {},
   "outputs": [
    {
     "data": {
      "text/plain": [
       "<Response [200]>"
      ]
     },
     "execution_count": 3,
     "metadata": {},
     "output_type": "execute_result"
    }
   ],
   "source": [
    "res"
   ]
  },
  {
   "cell_type": "code",
   "execution_count": 6,
   "id": "fd0f65f4",
   "metadata": {},
   "outputs": [],
   "source": [
    "soup = BeautifulSoup(res.text, 'html.parser')\n",
    "#soup"
   ]
  },
  {
   "cell_type": "code",
   "execution_count": 7,
   "id": "5a71ebe4",
   "metadata": {},
   "outputs": [],
   "source": [
    "## 1つの観光地情報を取得する"
   ]
  },
  {
   "cell_type": "code",
   "execution_count": 13,
   "id": "8970e63c",
   "metadata": {},
   "outputs": [],
   "source": [
    "#観光地名\n",
    "spots = soup.find_all('div', attrs={'class': 'u_areaListRankingBox'})\n",
    "spot = spots[0]"
   ]
  },
  {
   "cell_type": "code",
   "execution_count": 17,
   "id": "9e6c78dd",
   "metadata": {},
   "outputs": [],
   "source": [
    "spot_name = spot.find('div', attrs={'class':'u_title'})"
   ]
  },
  {
   "cell_type": "code",
   "execution_count": 18,
   "id": "2a03315e",
   "metadata": {},
   "outputs": [
    {
     "data": {
      "text/plain": [
       "'\\n1観光地 1\\n'"
      ]
     },
     "execution_count": 18,
     "metadata": {},
     "output_type": "execute_result"
    }
   ],
   "source": [
    "spot_name.text"
   ]
  },
  {
   "cell_type": "code",
   "execution_count": 21,
   "id": "c18a18c0",
   "metadata": {},
   "outputs": [
    {
     "data": {
      "text/plain": [
       "<span class=\"badge\">1</span>"
      ]
     },
     "execution_count": 21,
     "metadata": {},
     "output_type": "execute_result"
    }
   ],
   "source": [
    "spot_name.find('span', attrs={'class':'badge'}).extract()"
   ]
  },
  {
   "cell_type": "code",
   "execution_count": 22,
   "id": "ea0a4577",
   "metadata": {},
   "outputs": [
    {
     "data": {
      "text/plain": [
       "<div class=\"u_title col s12\">\n",
       "<p><h2>観光地 1</h2></p>\n",
       "</div>"
      ]
     },
     "execution_count": 22,
     "metadata": {},
     "output_type": "execute_result"
    }
   ],
   "source": [
    "spot_name"
   ]
  },
  {
   "cell_type": "code",
   "execution_count": 28,
   "id": "286718cb",
   "metadata": {},
   "outputs": [],
   "source": [
    "spot_name = spot_name.text.replace('\\n','')"
   ]
  },
  {
   "cell_type": "code",
   "execution_count": 29,
   "id": "d680bf68",
   "metadata": {},
   "outputs": [
    {
     "data": {
      "text/plain": [
       "'観光地 1'"
      ]
     },
     "execution_count": 29,
     "metadata": {},
     "output_type": "execute_result"
    }
   ],
   "source": [
    "spot_name"
   ]
  },
  {
   "cell_type": "code",
   "execution_count": 30,
   "id": "663116b6",
   "metadata": {},
   "outputs": [],
   "source": [
    "#評点"
   ]
  },
  {
   "cell_type": "code",
   "execution_count": 35,
   "id": "20c5e29f",
   "metadata": {},
   "outputs": [],
   "source": [
    "eval_num = spot.find('div', attrs = {'class': 'u_rankBox'}).text"
   ]
  },
  {
   "cell_type": "code",
   "execution_count": 39,
   "id": "3ba6e892",
   "metadata": {},
   "outputs": [],
   "source": [
    "eval_num = float(eval_num.replace('\\n',''))"
   ]
  },
  {
   "cell_type": "code",
   "execution_count": 40,
   "id": "b956db49",
   "metadata": {},
   "outputs": [
    {
     "data": {
      "text/plain": [
       "4.7"
      ]
     },
     "execution_count": 40,
     "metadata": {},
     "output_type": "execute_result"
    }
   ],
   "source": [
    "eval_num"
   ]
  },
  {
   "cell_type": "code",
   "execution_count": 44,
   "id": "9feced20",
   "metadata": {},
   "outputs": [],
   "source": [
    "categoryItems = spot.find('div', attrs = {'class': 'u_categoryTipsItem'})"
   ]
  },
  {
   "cell_type": "code",
   "execution_count": 47,
   "id": "379c2973",
   "metadata": {},
   "outputs": [],
   "source": [
    "categoryItems = categoryItems.find_all('dl')"
   ]
  },
  {
   "cell_type": "code",
   "execution_count": 51,
   "id": "13524414",
   "metadata": {},
   "outputs": [],
   "source": [
    "#楽しさのみ取得\n",
    "categoryItem = categoryItems[0]"
   ]
  },
  {
   "cell_type": "code",
   "execution_count": 52,
   "id": "d9256ea7",
   "metadata": {},
   "outputs": [
    {
     "data": {
      "text/plain": [
       "<dl>\n",
       "<dt>楽しさ</dt>\n",
       "<dd class=\"is_rank\"><span class=\"evaluateNumber\">4.6</span></dd>\n",
       "<dd class=\"comment\">また行きたいと思える場所でした！！</dd>\n",
       "</dl>"
      ]
     },
     "execution_count": 52,
     "metadata": {},
     "output_type": "execute_result"
    }
   ],
   "source": [
    "categoryItem"
   ]
  },
  {
   "cell_type": "code",
   "execution_count": 53,
   "id": "971fb50a",
   "metadata": {},
   "outputs": [
    {
     "data": {
      "text/plain": [
       "<dt>楽しさ</dt>"
      ]
     },
     "execution_count": 53,
     "metadata": {},
     "output_type": "execute_result"
    }
   ],
   "source": [
    "categoryItem.dt"
   ]
  },
  {
   "cell_type": "code",
   "execution_count": 55,
   "id": "7ff09189",
   "metadata": {},
   "outputs": [],
   "source": [
    "category = categoryItem.dt.text"
   ]
  },
  {
   "cell_type": "code",
   "execution_count": 56,
   "id": "5f628e08",
   "metadata": {},
   "outputs": [
    {
     "data": {
      "text/plain": [
       "'楽しさ'"
      ]
     },
     "execution_count": 56,
     "metadata": {},
     "output_type": "execute_result"
    }
   ],
   "source": [
    "category"
   ]
  },
  {
   "cell_type": "code",
   "execution_count": 60,
   "id": "217e1443",
   "metadata": {},
   "outputs": [],
   "source": [
    "rank = float(categoryItem.span.text)"
   ]
  },
  {
   "cell_type": "code",
   "execution_count": 61,
   "id": "3af30e8b",
   "metadata": {},
   "outputs": [
    {
     "data": {
      "text/plain": [
       "4.6"
      ]
     },
     "execution_count": 61,
     "metadata": {},
     "output_type": "execute_result"
    }
   ],
   "source": [
    "rank"
   ]
  },
  {
   "cell_type": "code",
   "execution_count": 69,
   "id": "4a2a0516",
   "metadata": {},
   "outputs": [],
   "source": [
    "details = {}\n",
    "\n",
    "for categoryItem in categoryItems :\n",
    "    category = categoryItem.dt.text\n",
    "    rank = float(categoryItem.span.text)\n",
    "\n",
    "    details[category] = rank"
   ]
  },
  {
   "cell_type": "code",
   "execution_count": 70,
   "id": "01733264",
   "metadata": {},
   "outputs": [
    {
     "data": {
      "text/plain": [
       "{'楽しさ': 4.6, '人混みの多さ': 4.5, '景色': 4.9, 'アクセス': 4.2}"
      ]
     },
     "execution_count": 70,
     "metadata": {},
     "output_type": "execute_result"
    }
   ],
   "source": [
    "details"
   ]
  },
  {
   "cell_type": "code",
   "execution_count": 72,
   "id": "398894dc",
   "metadata": {},
   "outputs": [],
   "source": [
    "datum = details\n",
    "datum['観光地名'] = spot_name\n",
    "datum['評点'] = eval_num"
   ]
  },
  {
   "cell_type": "code",
   "execution_count": 73,
   "id": "5319eaa5",
   "metadata": {},
   "outputs": [
    {
     "data": {
      "text/plain": [
       "{'楽しさ': 4.6, '人混みの多さ': 4.5, '景色': 4.9, 'アクセス': 4.2, '観光地名': '観光地 1', '評点': 4.7}"
      ]
     },
     "execution_count": 73,
     "metadata": {},
     "output_type": "execute_result"
    }
   ],
   "source": [
    "datum"
   ]
  },
  {
   "cell_type": "code",
   "execution_count": null,
   "id": "eee31e78",
   "metadata": {},
   "outputs": [],
   "source": []
  },
  {
   "cell_type": "code",
   "execution_count": null,
   "id": "d6afefaa",
   "metadata": {},
   "outputs": [],
   "source": [
    "\n",
    "soup = BeautifulSoup(res.text, 'html.parser')\n",
    "#soup\n",
    "\n",
    "#観光地名\n",
    "spots = soup.find_all('div', attrs={'class': 'u_areaListRankingBox'})\n",
    "spot = spots[0]\n",
    "spot_name = spot.find('div', attrs={'class':'u_title'})\n",
    "\n",
    "\n",
    "spot_name.find('span', attrs={'class':'badge'}).extract()\n",
    "spot_name = spot_name.text.replace('\\n','')\n",
    "\n",
    "#評点\n",
    "eval_num = spot.find('div', attrs = {'class': 'u_rankBox'}).text\n",
    "eval_num = float(eval_num.replace('\\n',''))\n",
    "\n",
    "\n",
    "categoryItems = spot.find('div', attrs = {'class': 'u_categoryTipsItem'})\n",
    "categoryItems = categoryItems.find_all('dl')\n",
    "\n",
    "details = {}\n",
    "\n",
    "for categoryItem in categoryItems :\n",
    "    category = categoryItem.dt.text\n",
    "    rank = float(categoryItem.span.text)\n",
    "\n",
    "    details[category] = rank\n"
   ]
  }
 ],
 "metadata": {
  "kernelspec": {
   "display_name": "Python 3 (ipykernel)",
   "language": "python",
   "name": "python3"
  },
  "language_info": {
   "codemirror_mode": {
    "name": "ipython",
    "version": 3
   },
   "file_extension": ".py",
   "mimetype": "text/x-python",
   "name": "python",
   "nbconvert_exporter": "python",
   "pygments_lexer": "ipython3",
   "version": "3.9.7"
  }
 },
 "nbformat": 4,
 "nbformat_minor": 5
}
